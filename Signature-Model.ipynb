{
 "cells": [
  {
   "cell_type": "markdown",
   "id": "4c709167-2065-47e2-a11f-03a38f2531de",
   "metadata": {
    "tags": []
   },
   "source": [
    "# Deploy Signature: Signature Model Package from AWS Marketplace"
   ]
  },
  {
   "cell_type": "markdown",
   "id": "3339cce5-177d-4262-a3e2-e19ff9f523c4",
   "metadata": {},
   "source": [
    "This sample notebook shows you how to deploy Signature Model using Amazon SageMaker.\n",
    "\n",
    "    Note: This is a reference notebook and it cannot run unless you make changes suggested in the notebook."
   ]
  },
  {
   "cell_type": "markdown",
   "id": "2a9a36e2-4b72-417a-9d17-3194cb7a1059",
   "metadata": {},
   "source": [
    "## Pre-requisites:\n",
    "\n",
    "1. Note: This notebook contains elements which render correctly in Jupyter interface. Open this notebook from an Amazon SageMaker Notebook Instance or Amazon SageMaker Studio.\n",
    "2. Ensure that IAM role used has AmazonSageMakerFullAccess\n",
    "3. To deploy this ML model successfully, ensure that:\n",
    "   - Either your IAM role has these three permissions and you have authority to make AWS Marketplace subscriptions in the AWS account used:\n",
    "        - aws-marketplace:ViewSubscriptions\n",
    "        - aws-marketplace:Unsubscribe\n",
    "        - aws-marketplace:Subscribe\n",
    "   - or your AWS account has a subscription. If so, skip step: Subscribe to the model package\n"
   ]
  },
  {
   "cell_type": "markdown",
   "id": "04199636-c6e0-491b-95c6-47484bc28136",
   "metadata": {},
   "source": [
    "## Contents:\n",
    "1. Subscribe to the model package\n",
    "2. Create an endpoint and perform real-time inference\n",
    "    - Create an endpoint\n",
    "    - Create input payload\n",
    "    - Perform real-time inference\n",
    "    - Visualize output\n",
    "    - Delete the endpoint\n",
    "3. Perform batch inference\n",
    "4. Clean-up\n",
    "    - Delete the model\n",
    "    - Unsubscribe to the listing (optional))"
   ]
  },
  {
   "cell_type": "markdown",
   "id": "ab76b422-81a0-488c-b53f-0b63647d3f91",
   "metadata": {},
   "source": [
    "## Usage instructions\n",
    "You can run this notebook one cell at a time (By using Shift+Enter for running a cell)."
   ]
  },
  {
   "cell_type": "markdown",
   "id": "5420b514-2b2e-4f5e-9fb0-1f09a5aef209",
   "metadata": {},
   "source": [
    "### 1. Subscribe to the model package\n",
    "To subscribe to the model package:\n",
    "\n",
    "1. Open the model package listing page\n",
    "2. On the AWS Marketplace listing, click on the **Continue to subscribe** button.\n",
    "3. On the **Subscribe to this software** page, review and click on **\"Accept Offer\"** if you and your organization agrees with EULA, pricing, and support terms.\n",
    "4. Once you click on **Continue to configuration** button and then choose a **region**, you will see a **Product Arn** displayed. This is the model package ARN that you need to specify while creating a deployable model using Boto3. Copy the ARN corresponding to your region and specify the same in the following cell.\n"
   ]
  },
  {
   "cell_type": "code",
   "execution_count": 1,
   "id": "114072a3-fcd0-4521-a011-1320535f7c7a",
   "metadata": {
    "tags": []
   },
   "outputs": [],
   "source": [
    "model_package_arn = model_package_arn #provided after purchase"
   ]
  },
  {
   "cell_type": "code",
   "execution_count": null,
   "id": "4f7fb8f6-062d-4c38-be08-45aaa7d789fe",
   "metadata": {
    "tags": []
   },
   "outputs": [],
   "source": [
    "import base64\n",
    "import json\n",
    "import uuid\n",
    "from sagemaker import ModelPackage\n",
    "import sagemaker as sage\n",
    "from sagemaker import get_execution_role\n",
    "from sagemaker import ModelPackage\n",
    "import boto3\n",
    "from IPython.display import Image\n",
    "from PIL import Image as ImageEdit\n",
    "import numpy as np"
   ]
  },
  {
   "cell_type": "code",
   "execution_count": null,
   "id": "39ef7693-f79d-48ce-8b87-0ef818dbffee",
   "metadata": {
    "tags": []
   },
   "outputs": [],
   "source": [
    "role = get_execution_role()\n",
    "\n",
    "sagemaker_session = sage.Session()\n",
    "\n",
    "bucket = sagemaker_session.default_bucket()\n",
    "runtime = boto3.client(\"runtime.sagemaker\")\n",
    "bucket"
   ]
  },
  {
   "cell_type": "code",
   "execution_count": 4,
   "id": "e317af70-24b6-40f9-b77c-ad2ced7a5ffb",
   "metadata": {
    "tags": []
   },
   "outputs": [],
   "source": [
    "model_name = \"signature\"\n",
    "\n",
    "content_type = \"application/json\"\n",
    "\n",
    "real_time_inference_instance_type = (\n",
    "    \"ml.m4.xlarge\"\n",
    ")\n",
    "batch_transform_inference_instance_type = (\n",
    "    \"ml.m4.xlarge\"\n",
    ")"
   ]
  },
  {
   "cell_type": "markdown",
   "id": "f1682d0d-4c93-4d3b-a3ad-cfe39768bb8b",
   "metadata": {},
   "source": [
    "### A. Create an endpoint"
   ]
  },
  {
   "cell_type": "code",
   "execution_count": 8,
   "id": "0d518a03-bb46-4181-9754-fd85941a2f5f",
   "metadata": {
    "tags": []
   },
   "outputs": [
    {
     "name": "stdout",
     "output_type": "stream",
     "text": [
      "-----!"
     ]
    }
   ],
   "source": [
    "# create a deployable model from the model package.\n",
    "model = ModelPackage(\n",
    "    role=role, model_package_arn=model_package_arn, sagemaker_session=sagemaker_session\n",
    ")\n",
    "\n",
    "# Deploy the model\n",
    "predictor = model.deploy(1, real_time_inference_instance_type, endpoint_name=model_name)"
   ]
  },
  {
   "cell_type": "markdown",
   "id": "e3288666-aa04-479d-9427-6bd6e857375f",
   "metadata": {},
   "source": [
    "### B Create input payload"
   ]
  },
  {
   "cell_type": "code",
   "execution_count": 9,
   "id": "1346a88a-e9ed-49aa-9226-272f9ab4a483",
   "metadata": {
    "tags": []
   },
   "outputs": [],
   "source": [
    "import os\n",
    "import json\n",
    "import base64\n",
    "\n",
    "input_img_pth1 = \"/data/input/real-time/real1.jpeg\" # Path to image \n",
    "input_img_pth2 = \"/data/input/real-time/real2.jpg\"\n",
    "\n",
    "# Read the image file and encode it to base64\n",
    "with open(input_img_pth1, \"rb\") as img:\n",
    "    image = base64.b64encode(img.read())\n",
    "    img1_base64 = image.decode()\n",
    "    \n",
    "with open(input_img_pth2, \"rb\") as img:\n",
    "    image = base64.b64encode(img.read())\n",
    "    img2_base64 = image.decode()\n",
    "\n",
    "# Prepare the data in the expected format\n",
    "data = {\"image1\": img1_base64,\n",
    "       \"image2\" : img2_base64}\n",
    "\n",
    "# Write the data to a JSON file\n",
    "file_name = \"input.json\"\n",
    "with open(file_name, \"w\") as json_file:\n",
    "    json.dump(data, json_file)\n",
    "\n",
    "# Set the necessary parameters for invoking the SageMaker endpoint\n",
    "# model_name = \"model\"\n",
    "output_file_name = \"data/output/signature_output.txt\"\n",
    "content_type = \"application/json\"\n",
    "region = \"us-east-1\"  # Replace with your actual AWS region, e.g., \"us-east-1\"\n"
   ]
  },
  {
   "cell_type": "markdown",
   "id": "afb959c7-2b0f-4ffb-a0da-9dcd083a33cb",
   "metadata": {},
   "source": [
    "### C perform real time inference"
   ]
  },
  {
   "cell_type": "code",
   "execution_count": 10,
   "id": "29c9b377-5760-4f9f-b9ce-07c3e4e8f206",
   "metadata": {
    "tags": []
   },
   "outputs": [
    {
     "name": "stdout",
     "output_type": "stream",
     "text": [
      "{\n",
      "    \"ContentType\": \"application/json\",\n",
      "    \"InvokedProductionVariant\": \"AllTraffic\"\n",
      "}\n"
     ]
    }
   ],
   "source": [
    "!aws sagemaker-runtime invoke-endpoint --endpoint-name $model_name --body fileb://{file_name} --content-type $content_type --region $sagemaker_session.boto_region_name $output_file_name"
   ]
  },
  {
   "cell_type": "markdown",
   "id": "d3493984-9fab-4450-baf1-4ba353cbb615",
   "metadata": {},
   "source": [
    "### D Visualise the output"
   ]
  },
  {
   "cell_type": "code",
   "execution_count": 11,
   "id": "69f9c77b-60ba-4f91-a895-64d3fe0e56e3",
   "metadata": {
    "tags": []
   },
   "outputs": [
    {
     "name": "stdout",
     "output_type": "stream",
     "text": [
      "{\"result\":\"Similar Signature\",\"similarity_score\":0.7038995623588562,\"statusCode\":200}\n",
      "\n"
     ]
    }
   ],
   "source": [
    "output_file = \"data/output/signature_output.txt\"  # Path to the output file\n",
    "\n",
    "# Read the contents of the output file\n",
    "with open(output_file, \"r\") as file:\n",
    "    output_data = file.read()\n",
    "\n",
    "# Print the output\n",
    "print(output_data)"
   ]
  },
  {
   "cell_type": "markdown",
   "id": "6a7fa0fc-5799-45e6-9fef-60e36ec5e67d",
   "metadata": {},
   "source": [
    "### E. Delete the endpoint\n",
    "\n",
    "Now that you have successfully performed a real-time inference, you do not need the endpoint any more. You can terminate the endpoint to avoid being charged."
   ]
  },
  {
   "cell_type": "code",
   "execution_count": 12,
   "id": "d43e82df-a800-43f4-8353-387674de2f99",
   "metadata": {
    "tags": []
   },
   "outputs": [],
   "source": [
    "model.sagemaker_session.delete_endpoint(model_name)\n",
    "model.sagemaker_session.delete_endpoint_config(model_name)"
   ]
  },
  {
   "cell_type": "markdown",
   "id": "dd055dcf-b1ff-4af7-9a0a-9b0005a95d75",
   "metadata": {},
   "source": [
    "### 3. Perform batch inference\n",
    "In this section, you will perform batch inference using multiple input payloads together. If you are not familiar with batch transform, and want to learn more, see these links:\n",
    "\n",
    "[How it works](https://docs.aws.amazon.com/sagemaker/latest/dg/whatis.html)\n",
    "\n",
    "[How to run a batch transform job](https://docs.aws.amazon.com/sagemaker/latest/dg/whatis.html)"
   ]
  },
  {
   "cell_type": "code",
   "execution_count": null,
   "id": "a06ac972-2cee-4bcb-8653-19af46a262b5",
   "metadata": {
    "tags": []
   },
   "outputs": [],
   "source": [
    "# upload the batch-transform job input files to S3\n",
    "transform_input_folder = \"data/input/batch/signature\"\n",
    "transform_input = sagemaker_session.upload_data(transform_input_folder, key_prefix=model_name)\n",
    "print(\"Transform input uploaded to \" + transform_input)"
   ]
  },
  {
   "cell_type": "code",
   "execution_count": null,
   "id": "9547c6c7-1907-4252-8f60-c238c63ee581",
   "metadata": {
    "tags": []
   },
   "outputs": [],
   "source": [
    "# Run the batch-transform job\n",
    "transformer = model.transformer(1, batch_transform_inference_instance_type)\n",
    "transformer.transform(transform_input, content_type=content_type)\n",
    "transformer.wait()"
   ]
  },
  {
   "cell_type": "code",
   "execution_count": null,
   "id": "a5d8a4ca-a301-4093-8843-652ff1ca8a0f",
   "metadata": {
    "tags": []
   },
   "outputs": [],
   "source": [
    "# output is available on following path\n",
    "transformer.output_path"
   ]
  },
  {
   "cell_type": "markdown",
   "id": "8adc75c8-b951-4fad-a6f6-d8d103f6f379",
   "metadata": {},
   "source": [
    "### 4. Clean-up\n",
    "A. Delete the model"
   ]
  },
  {
   "cell_type": "code",
   "execution_count": null,
   "id": "97f50e8c-cb73-43e4-9a33-6e0689314932",
   "metadata": {
    "tags": []
   },
   "outputs": [],
   "source": [
    "model.delete_model()"
   ]
  },
  {
   "cell_type": "markdown",
   "id": "b795540a-d6cd-4868-a499-4ee4f10f2037",
   "metadata": {},
   "source": [
    "### B. Unsubscribe to the listing (optional)\n",
    "\n",
    "If you would like to unsubscribe to the model package, follow these steps. Before you cancel the subscription, ensure that you do not have any [deployable](https://us-east-1.console.aws.amazon.com/sagemaker/home?region=us-east-1#/models) model created from the model package or using the algorithm. Note - You can find this information by looking at the container name associated with the model.\n",
    "\n",
    "**Steps to unsubscribe to product from AWS Marketplace:**\n",
    "\n",
    "- Navigate to Machine Learning tab on Your [Software subscriptions page](https://us-east-1.console.aws.amazon.com/marketplace/home#/landing)\n",
    "\n",
    "- Locate the listing that you want to cancel the subscription for, and then choose **Cancel Subscription** to cancel the subscription."
   ]
  },
  {
   "cell_type": "code",
   "execution_count": null,
   "id": "0d265e9f-46f4-4456-aeea-73c8dd523c40",
   "metadata": {},
   "outputs": [],
   "source": []
  }
 ],
 "metadata": {
  "kernelspec": {
   "display_name": "conda_python3",
   "language": "python",
   "name": "conda_python3"
  },
  "language_info": {
   "codemirror_mode": {
    "name": "ipython",
    "version": 3
   },
   "file_extension": ".py",
   "mimetype": "text/x-python",
   "name": "python",
   "nbconvert_exporter": "python",
   "pygments_lexer": "ipython3",
   "version": "3.10.13"
  }
 },
 "nbformat": 4,
 "nbformat_minor": 5
}
