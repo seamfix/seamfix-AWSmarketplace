{
 "cells": [
  {
   "cell_type": "markdown",
   "metadata": {},
   "source": [
    "# Deploy Passive Liveness Engine: Passive Liveness </font> Model Package from AWS Marketplace \n"
   ]
  },
  {
   "cell_type": "markdown",
   "metadata": {},
   "source": [
    "---\n",
    "\n",
    "This notebook's CI test result for us-west-2 is as follows. CI test results in other regions can be found at the end of the notebook. \n",
    "\n",
    "![This us-west-2 badge failed to load. Check your device's internet connectivity, otherwise the service is currently unavailable](https://h75twx4l60.execute-api.us-west-2.amazonaws.com/sagemaker-nb/us-west-2/aws_marketplace|curating_aws_marketplace_listing_and_sample_notebook|ModelPackage|Sample_Notebook_Template|title_of_your_product-Model.ipynb)\n",
    "\n",
    "---"
   ]
  },
  {
   "cell_type": "markdown",
   "metadata": {},
   "source": [
    "\n",
    "\n",
    "\n",
    "This sample notebook shows you how to deploy <font color='red'> Passive Liveness Model</font> using Amazon SageMaker.\n",
    "\n",
    "> **Note**: This is a reference notebook and it cannot run unless you make changes suggested in the notebook.\n",
    "\n",
    "## Pre-requisites:\n",
    "1. **Note**: This notebook contains elements which render correctly in Jupyter interface. Open this notebook from an Amazon SageMaker Notebook Instance or Amazon SageMaker Studio.\n",
    "1. Ensure that IAM role used has **AmazonSageMakerFullAccess**\n",
    "1. To deploy this ML model successfully, ensure that:\n",
    "    1. Either your IAM role has these three permissions and you have authority to make AWS Marketplace subscriptions in the AWS account used: \n",
    "        1. **aws-marketplace:ViewSubscriptions**\n",
    "        1. **aws-marketplace:Unsubscribe**\n",
    "        1. **aws-marketplace:Subscribe**  \n",
    "    2. or your AWS account has a subscription to <font color='red'> For Seller to update:[Title_of_your_ML Model](Provide link to your marketplace listing of your product)</font>. If so, skip step: [Subscribe to the model package](#1.-Subscribe-to-the-model-package)\n",
    "\n",
    "## Contents:\n",
    "1. [Subscribe to the model package](#1.-Subscribe-to-the-model-package)\n",
    "2. [Create an endpoint and perform real-time inference](#2.-Create-an-endpoint-and-perform-real-time-inference)\n",
    "   1. [Create an endpoint](#A.-Create-an-endpoint)\n",
    "   2. [Create input payload](#B.-Create-input-payload)\n",
    "   3. [Perform real-time inference](#C.-Perform-real-time-inference)\n",
    "   4. [Visualize output](#D.-Visualize-output)\n",
    "   5. [Delete the endpoint](#E.-Delete-the-endpoint)\n",
    "3. [Perform batch inference](#3.-Perform-batch-inference) \n",
    "4. [Clean-up](#4.-Clean-up)\n",
    "    1. [Delete the model](#A.-Delete-the-model)\n",
    "    2. [Unsubscribe to the listing (optional)](#B.-Unsubscribe-to-the-listing-(optional))\n",
    "    \n",
    "\n",
    "## Usage instructions\n",
    "You can run this notebook one cell at a time (By using Shift+Enter for running a cell)."
   ]
  },
  {
   "cell_type": "markdown",
   "metadata": {},
   "source": [
    "## 1. Subscribe to the model package"
   ]
  },
  {
   "cell_type": "markdown",
   "metadata": {},
   "source": [
    "To subscribe to the model package:\n",
    "1. Open the model package listing page \n",
    "1. On the AWS Marketplace listing, click on the **Continue to subscribe** button.\n",
    "1. On the **Subscribe to this software** page, review and click on **\"Accept Offer\"** if you and your organization agrees with EULA, pricing, and support terms. \n",
    "1. Once you click on **Continue to configuration button** and then choose a **region**, you will see a **Product Arn** displayed. This is the model package ARN that you need to specify while creating a deployable model using Boto3. Copy the ARN corresponding to your region and specify the same in the following cell."
   ]
  },
  {
   "cell_type": "code",
   "execution_count": 2,
   "metadata": {},
   "outputs": [],
   "source": [
    "model_package_arn = \"arn:aws:sagemaker:us-east-1:728413774894:model-package/awsmpbgcleanup\""
   ]
  },
  {
   "cell_type": "markdown",
   "metadata": {},
   "source": [
    "<font color='red'> For Seller to update: Add all necessary imports in following cell, \n",
    "If you need specific packages to be installed, # try to provide them in this section, in a separate cell. </font>"
   ]
  },
  {
   "cell_type": "code",
   "execution_count": 1,
   "metadata": {},
   "outputs": [],
   "source": [
    "import base64\n",
    "import json\n",
    "import uuid\n",
    "from sagemaker import ModelPackage\n",
    "import sagemaker as sage\n",
    "from sagemaker import get_execution_role\n",
    "from sagemaker import ModelPackage\n",
    "import boto3\n",
    "from IPython.display import Image\n",
    "from PIL import Image as ImageEdit\n",
    "import numpy as np"
   ]
  },
  {
   "cell_type": "code",
   "execution_count": 3,
   "metadata": {
    "collapsed": true
   },
   "outputs": [
    {
     "data": {
      "text/plain": [
       "'sagemaker-us-east-1-728413774894'"
      ]
     },
     "execution_count": 3,
     "metadata": {},
     "output_type": "execute_result"
    }
   ],
   "source": [
    "role = get_execution_role()\n",
    "\n",
    "sagemaker_session = sage.Session()\n",
    "\n",
    "bucket = sagemaker_session.default_bucket()\n",
    "runtime = boto3.client(\"runtime.sagemaker\")\n",
    "bucket"
   ]
  },
  {
   "cell_type": "markdown",
   "metadata": {},
   "source": [
    "## 2. Create an endpoint and perform real-time inference"
   ]
  },
  {
   "cell_type": "markdown",
   "metadata": {},
   "source": [
    "If you want to understand how real-time inference with Amazon SageMaker works, see [Documentation](https://docs.aws.amazon.com/sagemaker/latest/dg/how-it-works-hosting.html)."
   ]
  },
  {
   "cell_type": "markdown",
   "metadata": {},
   "source": [
    "<font color='red'>For Seller to update: update values for four variables in following cell. \n",
    "Specify a model/endpoint name using only alphanumeric characters. </font>"
   ]
  },
  {
   "cell_type": "code",
   "execution_count": 4,
   "metadata": {},
   "outputs": [],
   "source": [
    "model_name = \"liveness\" #Edit to any preferred name\n",
    "\n",
    "content_type = \"application/json\"\n",
    "\n",
    "real_time_inference_instance_type = (\n",
    "    \"ml.m4.xlarge\"\n",
    ")\n",
    "batch_transform_inference_instance_type = (\n",
    "    \"ml.m4.xlarge\"\n",
    ")"
   ]
  },
  {
   "cell_type": "markdown",
   "metadata": {},
   "source": [
    "### A. Create an endpoint"
   ]
  },
  {
   "cell_type": "code",
   "execution_count": null,
   "metadata": {},
   "outputs": [],
   "source": [
    "# create a deployable model from the model package.\n",
    "model = ModelPackage(\n",
    "    role=role, model_package_arn=model_package_arn, sagemaker_session=sagemaker_session\n",
    ")\n",
    "\n",
    "# Deploy the model\n",
    "predictor = model.deploy(1, real_time_inference_instance_type, endpoint_name=model_name)"
   ]
  },
  {
   "cell_type": "markdown",
   "metadata": {},
   "source": [
    "Once endpoint has been created, you would be able to perform real-time inference."
   ]
  },
  {
   "cell_type": "markdown",
   "metadata": {},
   "source": [
    "### B. Create input payload"
   ]
  },
  {
   "cell_type": "markdown",
   "metadata": {},
   "source": [
    "<font color='red'>For Seller to update: Add code snippet here that reads the input from 'data/input/real-time/' directory \n",
    "and converts it into format expected by the endpoint.</font>"
   ]
  },
  {
   "cell_type": "code",
   "execution_count": 33,
   "metadata": {},
   "outputs": [],
   "source": [
    "import os\n",
    "import json\n",
    "import base64\n",
    "\n",
    "input_img_pth = \"data/input/real-time/image.jpg\" # Path to image \n",
    "\n",
    "# Read the image file and encode it to base64\n",
    "with open(input_img_pth, \"rb\") as img:\n",
    "    image = base64.b64encode(img.read())\n",
    "    img_base64 = image.decode()\n",
    "\n",
    "# Prepare the data in the expected format\n",
    "data = {\"image\": img_base64}\n",
    "\n",
    "# Write the data to a JSON file\n",
    "file_name = \"data/input/real-time/input_liveness.json\"\n",
    "with open(file_name, \"w\") as json_file:\n",
    "    json.dump(data, json_file)\n",
    "\n",
    "# Set the necessary parameters for invoking the SageMaker endpoint\n",
    "# model_name = \"model\"\n",
    "output_file_name = \"data/output/output.txt\"\n",
    "content_type = \"application/json\"\n",
    "region = \"us-east-1\"  # Replace with your actual AWS region, e.g., \"us-east-1\"\n",
    "\n"
   ]
  },
  {
   "cell_type": "markdown",
   "metadata": {},
   "source": [
    "### C. Perform real-time inference"
   ]
  },
  {
   "cell_type": "code",
   "execution_count": 34,
   "metadata": {},
   "outputs": [
    {
     "name": "stdout",
     "output_type": "stream",
     "text": [
      "{\r\n",
      "    \"ContentType\": \"text/html; charset=utf-8\",\r\n",
      "    \"InvokedProductionVariant\": \"AllTraffic\"\r\n",
      "}\r\n"
     ]
    }
   ],
   "source": [
    "#invoke the endpoint\n",
    "!aws sagemaker-runtime invoke-endpoint --endpoint-name $model_name --body fileb://{file_name} --content-type $content_type --region $sagemaker_session.boto_region_name $output_file_name"
   ]
  },
  {
   "cell_type": "markdown",
   "metadata": {},
   "source": [
    "### D. Visualize output"
   ]
  },
  {
   "cell_type": "code",
   "execution_count": null,
   "metadata": {},
   "outputs": [],
   "source": [
    "output_file = \"data/output/output.txt\"  # Path to the output file\n",
    "\n",
    "# Read the contents of the output file\n",
    "with open(output_file, \"r\") as file:\n",
    "    output_data = file.read()\n",
    "\n",
    "# Print the output\n",
    "print(output_data)\n"
   ]
  },
  {
   "cell_type": "markdown",
   "metadata": {},
   "source": [
    "<font color='red'>The model also capable of detecting multiple faces or no face in an image.</font>"
   ]
  },
  {
   "cell_type": "code",
   "execution_count": 39,
   "metadata": {},
   "outputs": [],
   "source": [
    "import os\n",
    "import json\n",
    "import base64\n",
    "\n",
    "input_img_pth = \"data/input/real-time/noface.jpeg\" # Path to image \n",
    "\n",
    "# Read the image file and encode it to base64\n",
    "with open(input_img_pth, \"rb\") as img:\n",
    "    image = base64.b64encode(img.read())\n",
    "    img_base64 = image.decode()\n",
    "\n",
    "# Prepare the data in the expected format\n",
    "data = {\"image\": img_base64}\n",
    "\n",
    "# Write the data to a JSON file\n",
    "file_name = \"data/input/real-time/input_liveness.json\"\n",
    "with open(file_name, \"w\") as json_file:\n",
    "    json.dump(data, json_file)\n",
    "\n",
    "# Set the necessary parameters for invoking the SageMaker endpoint\n",
    "# model_name = \"model\"\n",
    "output_file_name = \"data/output/output.txt\"\n",
    "content_type = \"application/json\"\n",
    "region = \"us-east-1\"  # Replace with your actual AWS region, e.g., \"us-east-1\"\n",
    "\n",
    "\n"
   ]
  },
  {
   "cell_type": "code",
   "execution_count": 40,
   "metadata": {},
   "outputs": [
    {
     "name": "stdout",
     "output_type": "stream",
     "text": [
      "{\r\n",
      "    \"ContentType\": \"text/html; charset=utf-8\",\r\n",
      "    \"InvokedProductionVariant\": \"AllTraffic\"\r\n",
      "}\r\n"
     ]
    }
   ],
   "source": [
    "#invoke the endpoint\n",
    "!aws sagemaker-runtime invoke-endpoint --endpoint-name $model_name --body fileb://{file_name} --content-type $content_type --region $sagemaker_session.boto_region_name $output_file_name"
   ]
  },
  {
   "cell_type": "code",
   "execution_count": 41,
   "metadata": {
    "collapsed": true
   },
   "outputs": [
    {
     "name": "stdout",
     "output_type": "stream",
     "text": [
      "Error during model invocation: Error: -1, No face in image for input: b'{\"image\": \"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\"}'\n"
     ]
    }
   ],
   "source": [
    "output_file = \"data/output/output.txt\"  # Path to the output file\n",
    "\n",
    "# Read the contents of the output file\n",
    "with open(output_file, \"r\") as file:\n",
    "    output_data = file.read()\n",
    "\n",
    "# Print the output\n",
    "print(output_data)\n"
   ]
  },
  {
   "cell_type": "markdown",
   "metadata": {},
   "source": [
    "### E. Delete the endpoint"
   ]
  },
  {
   "cell_type": "markdown",
   "metadata": {},
   "source": [
    "Now that you have successfully performed a real-time inference, you do not need the endpoint any more. You can terminate the endpoint to avoid being charged."
   ]
  },
  {
   "cell_type": "code",
   "execution_count": null,
   "metadata": {},
   "outputs": [],
   "source": [
    "model.sagemaker_session.delete_endpoint(model_name)\n",
    "model.sagemaker_session.delete_endpoint_config(model_name)"
   ]
  },
  {
   "cell_type": "markdown",
   "metadata": {},
   "source": [
    "## 3. Perform batch inference"
   ]
  },
  {
   "cell_type": "markdown",
   "metadata": {},
   "source": [
    "In this section, you will perform batch inference using multiple input payloads together. If you are not familiar with batch transform, and want to learn more, see these links:\n",
    "1. [How it works](https://docs.aws.amazon.com/sagemaker/latest/dg/ex1-batch-transform.html)\n",
    "2. [How to run a batch transform job](https://docs.aws.amazon.com/sagemaker/latest/dg/how-it-works-batch.html)"
   ]
  },
  {
   "cell_type": "code",
   "execution_count": null,
   "metadata": {},
   "outputs": [],
   "source": [
    "# upload the batch-transform job input files to S3\n",
    "transform_input_folder = \"data/input/batch\"\n",
    "transform_input = sagemaker_session.upload_data(transform_input_folder, key_prefix=model_name)\n",
    "print(\"Transform input uploaded to \" + transform_input)"
   ]
  },
  {
   "cell_type": "code",
   "execution_count": null,
   "metadata": {},
   "outputs": [],
   "source": [
    "# Run the batch-transform job\n",
    "transformer = model.transformer(1, batch_transform_inference_instance_type)\n",
    "transformer.transform(transform_input, content_type=content_type)\n",
    "transformer.wait()"
   ]
  },
  {
   "cell_type": "code",
   "execution_count": null,
   "metadata": {},
   "outputs": [],
   "source": [
    "# output is available on following path\n",
    "transformer.output_path"
   ]
  },
  {
   "cell_type": "markdown",
   "metadata": {},
   "source": [
    "<font color='red'>For Seller to update: Add code that displays output generated by the batch transform job available in S3. \n",
    "This output must match the output available in data/output/batch folder.</font>"
   ]
  },
  {
   "cell_type": "markdown",
   "metadata": {},
   "source": [
    "## 4. Clean-up"
   ]
  },
  {
   "cell_type": "markdown",
   "metadata": {},
   "source": [
    "### A. Delete the model"
   ]
  },
  {
   "cell_type": "code",
   "execution_count": null,
   "metadata": {},
   "outputs": [],
   "source": [
    "model.delete_model()"
   ]
  },
  {
   "cell_type": "markdown",
   "metadata": {},
   "source": [
    "### B. Unsubscribe to the listing (optional)"
   ]
  },
  {
   "cell_type": "markdown",
   "metadata": {},
   "source": [
    "If you would like to unsubscribe to the model package, follow these steps. Before you cancel the subscription, ensure that you do not have any [deployable model](https://console.aws.amazon.com/sagemaker/home#/models) created from the model package or using the algorithm. Note - You can find this information by looking at the container name associated with the model. \n",
    "\n",
    "**Steps to unsubscribe to product from AWS Marketplace**:\n",
    "1. Navigate to __Machine Learning__ tab on [__Your Software subscriptions page__](https://aws.amazon.com/marketplace/ai/library?productType=ml&ref_=mlmp_gitdemo_indust)\n",
    "2. Locate the listing that you want to cancel the subscription for, and then choose __Cancel Subscription__  to cancel the subscription.\n",
    "\n"
   ]
  },
  {
   "cell_type": "markdown",
   "metadata": {},
   "source": [
    "## Notebook CI Test Results\n",
    "\n",
    "This notebook was tested in multiple regions. The test results are as follows, except for us-west-2 which is shown at the top of the notebook.\n",
    "\n",
    "![This us-east-1 badge failed to load. Check your device's internet connectivity, otherwise the service is currently unavailable](https://h75twx4l60.execute-api.us-west-2.amazonaws.com/sagemaker-nb/us-east-1/aws_marketplace|curating_aws_marketplace_listing_and_sample_notebook|ModelPackage|Sample_Notebook_Template|title_of_your_product-Model.ipynb)\n",
    "\n",
    "![This us-east-2 badge failed to load. Check your device's internet connectivity, otherwise the service is currently unavailable](https://h75twx4l60.execute-api.us-west-2.amazonaws.com/sagemaker-nb/us-east-2/aws_marketplace|curating_aws_marketplace_listing_and_sample_notebook|ModelPackage|Sample_Notebook_Template|title_of_your_product-Model.ipynb)\n",
    "\n",
    "![This us-west-1 badge failed to load. Check your device's internet connectivity, otherwise the service is currently unavailable](https://h75twx4l60.execute-api.us-west-2.amazonaws.com/sagemaker-nb/us-west-1/aws_marketplace|curating_aws_marketplace_listing_and_sample_notebook|ModelPackage|Sample_Notebook_Template|title_of_your_product-Model.ipynb)\n",
    "\n",
    "![This ca-central-1 badge failed to load. Check your device's internet connectivity, otherwise the service is currently unavailable](https://h75twx4l60.execute-api.us-west-2.amazonaws.com/sagemaker-nb/ca-central-1/aws_marketplace|curating_aws_marketplace_listing_and_sample_notebook|ModelPackage|Sample_Notebook_Template|title_of_your_product-Model.ipynb)\n",
    "\n",
    "![This sa-east-1 badge failed to load. Check your device's internet connectivity, otherwise the service is currently unavailable](https://h75twx4l60.execute-api.us-west-2.amazonaws.com/sagemaker-nb/sa-east-1/aws_marketplace|curating_aws_marketplace_listing_and_sample_notebook|ModelPackage|Sample_Notebook_Template|title_of_your_product-Model.ipynb)\n",
    "\n",
    "![This eu-west-1 badge failed to load. Check your device's internet connectivity, otherwise the service is currently unavailable](https://h75twx4l60.execute-api.us-west-2.amazonaws.com/sagemaker-nb/eu-west-1/aws_marketplace|curating_aws_marketplace_listing_and_sample_notebook|ModelPackage|Sample_Notebook_Template|title_of_your_product-Model.ipynb)\n",
    "\n",
    "![This eu-west-2 badge failed to load. Check your device's internet connectivity, otherwise the service is currently unavailable](https://h75twx4l60.execute-api.us-west-2.amazonaws.com/sagemaker-nb/eu-west-2/aws_marketplace|curating_aws_marketplace_listing_and_sample_notebook|ModelPackage|Sample_Notebook_Template|title_of_your_product-Model.ipynb)\n",
    "\n",
    "![This eu-west-3 badge failed to load. Check your device's internet connectivity, otherwise the service is currently unavailable](https://h75twx4l60.execute-api.us-west-2.amazonaws.com/sagemaker-nb/eu-west-3/aws_marketplace|curating_aws_marketplace_listing_and_sample_notebook|ModelPackage|Sample_Notebook_Template|title_of_your_product-Model.ipynb)\n",
    "\n",
    "![This eu-central-1 badge failed to load. Check your device's internet connectivity, otherwise the service is currently unavailable](https://h75twx4l60.execute-api.us-west-2.amazonaws.com/sagemaker-nb/eu-central-1/aws_marketplace|curating_aws_marketplace_listing_and_sample_notebook|ModelPackage|Sample_Notebook_Template|title_of_your_product-Model.ipynb)\n",
    "\n",
    "![This eu-north-1 badge failed to load. Check your device's internet connectivity, otherwise the service is currently unavailable](https://h75twx4l60.execute-api.us-west-2.amazonaws.com/sagemaker-nb/eu-north-1/aws_marketplace|curating_aws_marketplace_listing_and_sample_notebook|ModelPackage|Sample_Notebook_Template|title_of_your_product-Model.ipynb)\n",
    "\n",
    "![This ap-southeast-1 badge failed to load. Check your device's internet connectivity, otherwise the service is currently unavailable](https://h75twx4l60.execute-api.us-west-2.amazonaws.com/sagemaker-nb/ap-southeast-1/aws_marketplace|curating_aws_marketplace_listing_and_sample_notebook|ModelPackage|Sample_Notebook_Template|title_of_your_product-Model.ipynb)\n",
    "\n",
    "![This ap-southeast-2 badge failed to load. Check your device's internet connectivity, otherwise the service is currently unavailable](https://h75twx4l60.execute-api.us-west-2.amazonaws.com/sagemaker-nb/ap-southeast-2/aws_marketplace|curating_aws_marketplace_listing_and_sample_notebook|ModelPackage|Sample_Notebook_Template|title_of_your_product-Model.ipynb)\n",
    "\n",
    "![This ap-northeast-1 badge failed to load. Check your device's internet connectivity, otherwise the service is currently unavailable](https://h75twx4l60.execute-api.us-west-2.amazonaws.com/sagemaker-nb/ap-northeast-1/aws_marketplace|curating_aws_marketplace_listing_and_sample_notebook|ModelPackage|Sample_Notebook_Template|title_of_your_product-Model.ipynb)\n",
    "\n",
    "![This ap-northeast-2 badge failed to load. Check your device's internet connectivity, otherwise the service is currently unavailable](https://h75twx4l60.execute-api.us-west-2.amazonaws.com/sagemaker-nb/ap-northeast-2/aws_marketplace|curating_aws_marketplace_listing_and_sample_notebook|ModelPackage|Sample_Notebook_Template|title_of_your_product-Model.ipynb)\n",
    "\n",
    "![This ap-south-1 badge failed to load. Check your device's internet connectivity, otherwise the service is currently unavailable](https://h75twx4l60.execute-api.us-west-2.amazonaws.com/sagemaker-nb/ap-south-1/aws_marketplace|curating_aws_marketplace_listing_and_sample_notebook|ModelPackage|Sample_Notebook_Template|title_of_your_product-Model.ipynb)\n"
   ]
  }
 ],
 "metadata": {
  "instance_type": "ml.t3.medium",
  "kernelspec": {
   "display_name": "conda_python3",
   "language": "python",
   "name": "conda_python3"
  },
  "language_info": {
   "codemirror_mode": {
    "name": "ipython",
    "version": 3
   },
   "file_extension": ".py",
   "mimetype": "text/x-python",
   "name": "python",
   "nbconvert_exporter": "python",
   "pygments_lexer": "ipython3",
   "version": "3.10.8"
  }
 },
 "nbformat": 4,
 "nbformat_minor": 4
}
